{
 "cells": [
  {
   "cell_type": "markdown",
   "metadata": {},
   "source": [
    "#### STEPS TO GET DATA\n",
    "1.  Download the data by running the following command in the project directory:\n",
    "    `wget -w 2 -m -H \"http://www.gutenberg.org/robot/harvest?filetypes[]=html&langs[]=de\"`\n",
    "    \n",
    "2.  Clean extraneous files by running the following commands (applies for Windows):\n",
    "    `del /S *-8.zip`\n",
    "    `del /S robots.txt`\n",
    "    `del /S harvest*`\n",
    "    \n",
    "`pip install bsddb3-6.2.6-cp37-cp37m-win_amd64.whl`\n",
    "`pip install gutenberg`"
   ]
  },
  {
   "cell_type": "code",
   "execution_count": 8,
   "metadata": {},
   "outputs": [],
   "source": [
    "# imports\n",
    "from string import ascii_lowercase # for checking if letters\n",
    "import numpy as np                 # numpy, duh...\n",
    "#import glob                        # file reading\n",
    "import zipfile                     # zipped file reading\n",
    "import os                          # recursive navigation of file tree\n",
    "import fnmatch                     # matching file name patterns\n",
    "\n",
    "\n",
    "\n",
    "\n",
    "\n",
    "\n",
    "'''\n",
    "# from gutenberg.acquire import load_metadata\n",
    "from gutenberg.acquire import load_etext\n",
    "from gutenberg.cleanup import strip_headers\n",
    "\n",
    "from gutenberg.query import get_etexts\n",
    "from gutenberg.query import get_metadata\n",
    "\n",
    "from gutenberg.query import list_supported_metadatas\n",
    "'''\n"
   ]
  },
  {
   "cell_type": "markdown",
   "metadata": {},
   "source": [
    "#### STEPS TO TAKE IN SETTING UP MODEL\n",
    "\n",
    "1.  Read in all of the dataset from the files\n",
    "2.  Classify each work\n",
    "    *  If author's first name is only in male.txt, then male (ADD TO MALE LIST, WILL COMBINE LATER)\n",
    "    *  Else if author's first name is only in female.txt, then female (ADD TO FEMALE LIST, WILL COMBINE LATER)\n",
    "    *  Else, ambiguous (ADD TO AMBIGUOUS LIST, CAN BE USED FOR MANUAL TESTING IF YOU WANT)\n",
    "3.  Clean each text\n",
    "    *  Remove headers and footers\n",
    "    *  Remove characters that are not spaces or newlines or numbers or characters or hyphens (or question marks or exclamation marks?) or apostrophes (in contractions or possessive forms)\n",
    "    *  Replace newlines with spaces\n",
    "    *  (if using ? and !, replace with a space plus the mark, so it will count as a new word in tokenization)\n",
    "    *  Remove double spaces\n",
    "    *  Convert all capital letters to lowercase\n",
    "4.  Tokenize each cleaned text\n",
    "5.  Build a vocabulary???\n",
    "5.  Vectorize each tokenized text"
   ]
  },
  {
   "cell_type": "code",
   "execution_count": null,
   "metadata": {},
   "outputs": [],
   "source": []
  }
 ],
 "metadata": {
  "kernelspec": {
   "display_name": "Python 3",
   "language": "python",
   "name": "python3"
  },
  "language_info": {
   "codemirror_mode": {
    "name": "ipython",
    "version": 3
   },
   "file_extension": ".py",
   "mimetype": "text/x-python",
   "name": "python",
   "nbconvert_exporter": "python",
   "pygments_lexer": "ipython3",
   "version": "3.7.0"
  }
 },
 "nbformat": 4,
 "nbformat_minor": 2
}
